{
 "cells": [
  {
   "cell_type": "markdown",
   "id": "7961bad2-89fa-4039-8e1c-5c7fcdd91920",
   "metadata": {},
   "source": [
    "# Data Science Tools and Ecosystem"
   ]
  },
  {
   "cell_type": "markdown",
   "id": "34465f14-7a13-458e-9c36-2494209e05c9",
   "metadata": {},
   "source": [
    "In this notebook, Data Science Tools and Ecosystem are summarized."
   ]
  },
  {
   "cell_type": "markdown",
   "id": "34ccf62a-0a26-443b-af4f-fc61576510d0",
   "metadata": {},
   "source": [
    "**Objectives:**\n",
    "* List popular languages for Data Science\n",
    "* List commonly libraries used by Data Scientist\n",
    "* Some development environment open source tools used in Data Science\n",
    "* Example of arithmetic expressions evaluation\n",
    "* Example of conversion"
   ]
  },
  {
   "cell_type": "markdown",
   "id": "26e68f3a-54d3-40e6-8114-3cf1704bd403",
   "metadata": {},
   "source": [
    "Some of the popular languages that Data Scientists use are:\n",
    "1. Python\n",
    "2. R\n",
    "3. SQL"
   ]
  },
  {
   "cell_type": "markdown",
   "id": "5d15e533-83eb-4bc8-867e-2898eb077d30",
   "metadata": {},
   "source": [
    "Some of the commonly used libraries used by Data Scientists include:\n",
    "1. NumPy\n",
    "2. Pandas\n",
    "3. Matplotlib "
   ]
  },
  {
   "cell_type": "markdown",
   "id": "a61dfa79-ccc4-446e-a451-36d3688aab30",
   "metadata": {},
   "source": [
    "|Data Science Tools|\n",
    "|----------------- |\n",
    "|RStudio|\n",
    "|Jupyter Notebook|\n",
    "|TensorFlow|\n"
   ]
  },
  {
   "cell_type": "markdown",
   "id": "de23b8d3-519d-48ae-9bbd-77cbca32bea7",
   "metadata": {},
   "source": [
    "### Below are a few examples of evaluating arithmetic expressions in Python\n"
   ]
  },
  {
   "cell_type": "code",
   "execution_count": 4,
   "id": "4453272b-bbfd-40fa-aad7-3367a4e93335",
   "metadata": {},
   "outputs": [
    {
     "data": {
      "text/plain": [
       "17"
      ]
     },
     "execution_count": 4,
     "metadata": {},
     "output_type": "execute_result"
    }
   ],
   "source": [
    "#This is a simple arithmetic expression to multiply then add integers.\n",
    "(3*4)+5"
   ]
  },
  {
   "cell_type": "code",
   "execution_count": 5,
   "id": "fcce622f-de16-48e7-beeb-60613c8f5e33",
   "metadata": {},
   "outputs": [
    {
     "data": {
      "text/plain": [
       "3.3333333333333335"
      ]
     },
     "execution_count": 5,
     "metadata": {},
     "output_type": "execute_result"
    }
   ],
   "source": [
    "# This will convert 200 minutes to hours by diving by 60.\n",
    "200/60"
   ]
  },
  {
   "cell_type": "markdown",
   "id": "45db5691-bfbd-4fe8-9240-eca5eebc7a60",
   "metadata": {},
   "source": [
    "## Author\n",
    "Dlynzee D."
   ]
  }
 ],
 "metadata": {
  "kernelspec": {
   "display_name": "Python 3 (ipykernel)",
   "language": "python",
   "name": "python3"
  },
  "language_info": {
   "codemirror_mode": {
    "name": "ipython",
    "version": 3
   },
   "file_extension": ".py",
   "mimetype": "text/x-python",
   "name": "python",
   "nbconvert_exporter": "python",
   "pygments_lexer": "ipython3",
   "version": "3.12.8"
  }
 },
 "nbformat": 4,
 "nbformat_minor": 5
}
